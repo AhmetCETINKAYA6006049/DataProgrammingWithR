{
 "cells": [
  {
   "cell_type": "markdown",
   "id": "e0737c0c",
   "metadata": {},
   "source": [
    "# Pandas"
   ]
  },
  {
   "cell_type": "markdown",
   "id": "8921ee67",
   "metadata": {},
   "source": [
    "## Importing Pandas"
   ]
  },
  {
   "cell_type": "code",
   "execution_count": 6,
   "id": "7a736feb",
   "metadata": {},
   "outputs": [],
   "source": [
    "import pandas as pd\n",
    "import numpy as np"
   ]
  },
  {
   "cell_type": "markdown",
   "id": "39bf5f12",
   "metadata": {},
   "source": [
    "## Series in Pandas"
   ]
  },
  {
   "cell_type": "code",
   "execution_count": 2,
   "id": "972532bb",
   "metadata": {},
   "outputs": [],
   "source": [
    "s1 = pd.Series([1, 2, 3, 5, -3])"
   ]
  },
  {
   "cell_type": "code",
   "execution_count": 3,
   "id": "4036b3c4",
   "metadata": {},
   "outputs": [
    {
     "data": {
      "text/plain": [
       "pandas.core.series.Series"
      ]
     },
     "execution_count": 3,
     "metadata": {},
     "output_type": "execute_result"
    }
   ],
   "source": [
    "type(s1)"
   ]
  },
  {
   "cell_type": "code",
   "execution_count": 4,
   "id": "04e80dc1",
   "metadata": {},
   "outputs": [
    {
     "name": "stdout",
     "output_type": "stream",
     "text": [
      "0    1\n",
      "1    2\n",
      "2    3\n",
      "3    5\n",
      "4   -3\n",
      "dtype: int64\n"
     ]
    }
   ],
   "source": [
    "print(s1)"
   ]
  },
  {
   "cell_type": "code",
   "execution_count": 7,
   "id": "0494a63c",
   "metadata": {},
   "outputs": [],
   "source": [
    "s2 = pd.Series([1, 2, 3, 5, -3], dtype=np.int32)"
   ]
  },
  {
   "cell_type": "code",
   "execution_count": 8,
   "id": "6731ba6e",
   "metadata": {},
   "outputs": [
    {
     "name": "stdout",
     "output_type": "stream",
     "text": [
      "0    1\n",
      "1    2\n",
      "2    3\n",
      "3    5\n",
      "4   -3\n",
      "dtype: int32\n"
     ]
    }
   ],
   "source": [
    "print(s2)"
   ]
  },
  {
   "cell_type": "markdown",
   "id": "a1f89582",
   "metadata": {},
   "source": [
    "pass a list as an argument to the constructor function to create a series"
   ]
  },
  {
   "cell_type": "code",
   "execution_count": 10,
   "id": "ad151b44",
   "metadata": {},
   "outputs": [
    {
     "name": "stdout",
     "output_type": "stream",
     "text": [
      "0    1\n",
      "1    2\n",
      "2    3\n",
      "3    5\n",
      "4   -3\n",
      "dtype: int64\n"
     ]
    }
   ],
   "source": [
    "x = [1, 2, 3 , 5, -3]\n",
    "s3 = pd.Series(x)\n",
    "print(s3)"
   ]
  },
  {
   "cell_type": "markdown",
   "id": "aedba85a",
   "metadata": {},
   "source": [
    "pass a NumPy ndarray as an argument to the constructor function to create a series"
   ]
  },
  {
   "cell_type": "code",
   "execution_count": 11,
   "id": "ba8d7d09",
   "metadata": {},
   "outputs": [
    {
     "name": "stdout",
     "output_type": "stream",
     "text": [
      "[ 1  2  3  5 -3]\n"
     ]
    }
   ],
   "source": [
    "y = np.array(x)\n",
    "s4 = pd.Series(y)\n",
    "print(s4.values)"
   ]
  },
  {
   "cell_type": "markdown",
   "id": "7bf24f49",
   "metadata": {},
   "source": [
    "retrieve the index"
   ]
  },
  {
   "cell_type": "code",
   "execution_count": 12,
   "id": "6da63b20",
   "metadata": {},
   "outputs": [
    {
     "name": "stdout",
     "output_type": "stream",
     "text": [
      "RangeIndex(start=0, stop=5, step=1)\n"
     ]
    }
   ],
   "source": [
    "print(s4.index)"
   ]
  },
  {
   "cell_type": "markdown",
   "id": "7e6c586a",
   "metadata": {},
   "source": [
    "assign a custom index"
   ]
  },
  {
   "cell_type": "code",
   "execution_count": 13,
   "id": "fb51144a",
   "metadata": {},
   "outputs": [
    {
     "name": "stdout",
     "output_type": "stream",
     "text": [
      "a    1\n",
      "b    2\n",
      "c    3\n",
      "d    5\n",
      "e   -3\n",
      "dtype: int64\n"
     ]
    }
   ],
   "source": [
    "s5 = pd.Series( x, index = ['a', 'b', 'c', 'd', 'e'])\n",
    "print(s5)"
   ]
  },
  {
   "cell_type": "markdown",
   "id": "59acac57",
   "metadata": {},
   "source": [
    "## Basic Operations on Series"
   ]
  },
  {
   "cell_type": "markdown",
   "id": "ebccc806",
   "metadata": {},
   "source": [
    "we can\n",
    "display the negative numbers as"
   ]
  },
  {
   "cell_type": "code",
   "execution_count": 14,
   "id": "c10be99a",
   "metadata": {},
   "outputs": [
    {
     "name": "stdout",
     "output_type": "stream",
     "text": [
      "e   -3\n",
      "dtype: int64\n"
     ]
    }
   ],
   "source": [
    "print(s5[s5 < 0])"
   ]
  },
  {
   "cell_type": "markdown",
   "id": "2ce8e776",
   "metadata": {},
   "source": [
    "We can also retrieve the positive numbers as follows"
   ]
  },
  {
   "cell_type": "code",
   "execution_count": 15,
   "id": "2f0d203a",
   "metadata": {},
   "outputs": [
    {
     "name": "stdout",
     "output_type": "stream",
     "text": [
      "a    1\n",
      "b    2\n",
      "c    3\n",
      "d    5\n",
      "dtype: int64\n"
     ]
    }
   ],
   "source": [
    "print(s5[s5 > 0])"
   ]
  },
  {
   "cell_type": "markdown",
   "id": "93bfc2f4",
   "metadata": {},
   "source": [
    "To perform a\n",
    "multiplication operation"
   ]
  },
  {
   "cell_type": "code",
   "execution_count": 16,
   "id": "dc169bf8",
   "metadata": {},
   "outputs": [
    {
     "name": "stdout",
     "output_type": "stream",
     "text": [
      "a     3\n",
      "b     6\n",
      "c     9\n",
      "d    15\n",
      "e    -9\n",
      "dtype: int64\n"
     ]
    }
   ],
   "source": [
    "c = 3\n",
    "print(s5 * c)"
   ]
  },
  {
   "cell_type": "markdown",
   "id": "c66f168a",
   "metadata": {},
   "source": [
    "## Data Frames in Pandas"
   ]
  },
  {
   "cell_type": "markdown",
   "id": "d3b4b4e1",
   "metadata": {},
   "source": [
    "A dataframe is a two-dimensional labeled data structure with columns of\n",
    "that can be of different datatype"
   ]
  },
  {
   "cell_type": "code",
   "execution_count": 17,
   "id": "06f28e0a",
   "metadata": {},
   "outputs": [],
   "source": [
    "data = {'city': ['Mumbai', 'Mumbai', 'Mumbai',\n",
    "'Hyderabad', 'Hyderabad', 'Hyderabad'],\n",
    "'year': [2010, 2011, 2012, 2010, 2011, 2012,],\n",
    "'population': [10.0, 10.1, 10.2, 5.2, 5.3, 5.5]}"
   ]
  },
  {
   "cell_type": "code",
   "execution_count": 18,
   "id": "820bac1d",
   "metadata": {},
   "outputs": [
    {
     "name": "stdout",
     "output_type": "stream",
     "text": [
      "        city  year  population\n",
      "0     Mumbai  2010        10.0\n",
      "1     Mumbai  2011        10.1\n",
      "2     Mumbai  2012        10.2\n",
      "3  Hyderabad  2010         5.2\n",
      "4  Hyderabad  2011         5.3\n",
      "5  Hyderabad  2012         5.5\n"
     ]
    }
   ],
   "source": [
    "df1 = pd.DataFrame(data)\n",
    "print(df1)"
   ]
  },
  {
   "cell_type": "markdown",
   "id": "c7a7a706",
   "metadata": {},
   "source": [
    "code to display the top five records"
   ]
  },
  {
   "cell_type": "code",
   "execution_count": 19,
   "id": "ff6b7a9c",
   "metadata": {},
   "outputs": [
    {
     "data": {
      "text/html": [
       "<div>\n",
       "<style scoped>\n",
       "    .dataframe tbody tr th:only-of-type {\n",
       "        vertical-align: middle;\n",
       "    }\n",
       "\n",
       "    .dataframe tbody tr th {\n",
       "        vertical-align: top;\n",
       "    }\n",
       "\n",
       "    .dataframe thead th {\n",
       "        text-align: right;\n",
       "    }\n",
       "</style>\n",
       "<table border=\"1\" class=\"dataframe\">\n",
       "  <thead>\n",
       "    <tr style=\"text-align: right;\">\n",
       "      <th></th>\n",
       "      <th>city</th>\n",
       "      <th>year</th>\n",
       "      <th>population</th>\n",
       "    </tr>\n",
       "  </thead>\n",
       "  <tbody>\n",
       "    <tr>\n",
       "      <th>0</th>\n",
       "      <td>Mumbai</td>\n",
       "      <td>2010</td>\n",
       "      <td>10.0</td>\n",
       "    </tr>\n",
       "    <tr>\n",
       "      <th>1</th>\n",
       "      <td>Mumbai</td>\n",
       "      <td>2011</td>\n",
       "      <td>10.1</td>\n",
       "    </tr>\n",
       "    <tr>\n",
       "      <th>2</th>\n",
       "      <td>Mumbai</td>\n",
       "      <td>2012</td>\n",
       "      <td>10.2</td>\n",
       "    </tr>\n",
       "    <tr>\n",
       "      <th>3</th>\n",
       "      <td>Hyderabad</td>\n",
       "      <td>2010</td>\n",
       "      <td>5.2</td>\n",
       "    </tr>\n",
       "    <tr>\n",
       "      <th>4</th>\n",
       "      <td>Hyderabad</td>\n",
       "      <td>2011</td>\n",
       "      <td>5.3</td>\n",
       "    </tr>\n",
       "  </tbody>\n",
       "</table>\n",
       "</div>"
      ],
      "text/plain": [
       "        city  year  population\n",
       "0     Mumbai  2010        10.0\n",
       "1     Mumbai  2011        10.1\n",
       "2     Mumbai  2012        10.2\n",
       "3  Hyderabad  2010         5.2\n",
       "4  Hyderabad  2011         5.3"
      ]
     },
     "execution_count": 19,
     "metadata": {},
     "output_type": "execute_result"
    }
   ],
   "source": [
    "df1.head()"
   ]
  },
  {
   "cell_type": "markdown",
   "id": "b9a1fea1",
   "metadata": {},
   "source": [
    "code to display the last five records"
   ]
  },
  {
   "cell_type": "code",
   "execution_count": 20,
   "id": "d913f18e",
   "metadata": {},
   "outputs": [
    {
     "data": {
      "text/html": [
       "<div>\n",
       "<style scoped>\n",
       "    .dataframe tbody tr th:only-of-type {\n",
       "        vertical-align: middle;\n",
       "    }\n",
       "\n",
       "    .dataframe tbody tr th {\n",
       "        vertical-align: top;\n",
       "    }\n",
       "\n",
       "    .dataframe thead th {\n",
       "        text-align: right;\n",
       "    }\n",
       "</style>\n",
       "<table border=\"1\" class=\"dataframe\">\n",
       "  <thead>\n",
       "    <tr style=\"text-align: right;\">\n",
       "      <th></th>\n",
       "      <th>city</th>\n",
       "      <th>year</th>\n",
       "      <th>population</th>\n",
       "    </tr>\n",
       "  </thead>\n",
       "  <tbody>\n",
       "    <tr>\n",
       "      <th>1</th>\n",
       "      <td>Mumbai</td>\n",
       "      <td>2011</td>\n",
       "      <td>10.1</td>\n",
       "    </tr>\n",
       "    <tr>\n",
       "      <th>2</th>\n",
       "      <td>Mumbai</td>\n",
       "      <td>2012</td>\n",
       "      <td>10.2</td>\n",
       "    </tr>\n",
       "    <tr>\n",
       "      <th>3</th>\n",
       "      <td>Hyderabad</td>\n",
       "      <td>2010</td>\n",
       "      <td>5.2</td>\n",
       "    </tr>\n",
       "    <tr>\n",
       "      <th>4</th>\n",
       "      <td>Hyderabad</td>\n",
       "      <td>2011</td>\n",
       "      <td>5.3</td>\n",
       "    </tr>\n",
       "    <tr>\n",
       "      <th>5</th>\n",
       "      <td>Hyderabad</td>\n",
       "      <td>2012</td>\n",
       "      <td>5.5</td>\n",
       "    </tr>\n",
       "  </tbody>\n",
       "</table>\n",
       "</div>"
      ],
      "text/plain": [
       "        city  year  population\n",
       "1     Mumbai  2011        10.1\n",
       "2     Mumbai  2012        10.2\n",
       "3  Hyderabad  2010         5.2\n",
       "4  Hyderabad  2011         5.3\n",
       "5  Hyderabad  2012         5.5"
      ]
     },
     "execution_count": 20,
     "metadata": {},
     "output_type": "execute_result"
    }
   ],
   "source": [
    "df1.tail()"
   ]
  },
  {
   "cell_type": "markdown",
   "id": "9f3068d5",
   "metadata": {},
   "source": [
    "create a dataframe with a particular order of columns"
   ]
  },
  {
   "cell_type": "code",
   "execution_count": 21,
   "id": "a8829930",
   "metadata": {},
   "outputs": [
    {
     "name": "stdout",
     "output_type": "stream",
     "text": [
      "   year       city  population\n",
      "0  2010     Mumbai        10.0\n",
      "1  2011     Mumbai        10.1\n",
      "2  2012     Mumbai        10.2\n",
      "3  2010  Hyderabad         5.2\n",
      "4  2011  Hyderabad         5.3\n",
      "5  2012  Hyderabad         5.5\n"
     ]
    }
   ],
   "source": [
    "df2 = pd.DataFrame(data, columns=['year', 'city','population'])\n",
    "print(df2)"
   ]
  },
  {
   "cell_type": "markdown",
   "id": "3f0346c7",
   "metadata": {},
   "source": [
    "Next let’s create a dataframe with an additional column and\n",
    "custom index"
   ]
  },
  {
   "cell_type": "code",
   "execution_count": 22,
   "id": "aaa3f3fa",
   "metadata": {},
   "outputs": [
    {
     "name": "stdout",
     "output_type": "stream",
     "text": [
      "       year       city  population  GDP\n",
      "one    2010     Mumbai        10.0  NaN\n",
      "two    2011     Mumbai        10.1  NaN\n",
      "three  2012     Mumbai        10.2  NaN\n",
      "four   2010  Hyderabad         5.2  NaN\n",
      "five   2011  Hyderabad         5.3  NaN\n",
      "six    2012  Hyderabad         5.5  NaN\n"
     ]
    }
   ],
   "source": [
    "df3 = pd.DataFrame(data, columns=['year', 'city', 'population', 'GDP'], index = ['one', 'two', 'three', 'four', 'five', 'six'])\n",
    "print(df3)"
   ]
  },
  {
   "cell_type": "markdown",
   "id": "ebc6f0a8",
   "metadata": {},
   "source": [
    "print the list of columns"
   ]
  },
  {
   "cell_type": "code",
   "execution_count": 23,
   "id": "5a525c67",
   "metadata": {},
   "outputs": [
    {
     "name": "stdout",
     "output_type": "stream",
     "text": [
      "Index(['year', 'city', 'population', 'GDP'], dtype='object')\n"
     ]
    }
   ],
   "source": [
    "print(df3.columns)"
   ]
  },
  {
   "cell_type": "markdown",
   "id": "05e24335",
   "metadata": {},
   "source": [
    "display the data of a column "
   ]
  },
  {
   "cell_type": "code",
   "execution_count": 24,
   "id": "617b9b6b",
   "metadata": {},
   "outputs": [
    {
     "name": "stdout",
     "output_type": "stream",
     "text": [
      "one      2010\n",
      "two      2011\n",
      "three    2012\n",
      "four     2010\n",
      "five     2011\n",
      "six      2012\n",
      "Name: year, dtype: int64\n"
     ]
    }
   ],
   "source": [
    "print(df3.year)"
   ]
  },
  {
   "cell_type": "code",
   "execution_count": 26,
   "id": "b2fbf20c",
   "metadata": {},
   "outputs": [
    {
     "name": "stdout",
     "output_type": "stream",
     "text": [
      "one         Mumbai\n",
      "two         Mumbai\n",
      "three       Mumbai\n",
      "four     Hyderabad\n",
      "five     Hyderabad\n",
      "six      Hyderabad\n",
      "Name: city, dtype: object\n"
     ]
    }
   ],
   "source": [
    "print(df3['city'])"
   ]
  },
  {
   "cell_type": "markdown",
   "id": "477b84f9",
   "metadata": {},
   "source": [
    "display the datatype of a column"
   ]
  },
  {
   "cell_type": "code",
   "execution_count": 27,
   "id": "db4ef3ca",
   "metadata": {},
   "outputs": [
    {
     "name": "stdout",
     "output_type": "stream",
     "text": [
      "int64\n"
     ]
    }
   ],
   "source": [
    "print(df3['year'].dtype)"
   ]
  },
  {
   "cell_type": "code",
   "execution_count": 28,
   "id": "bb29e9a8",
   "metadata": {},
   "outputs": [
    {
     "name": "stdout",
     "output_type": "stream",
     "text": [
      "int64\n"
     ]
    }
   ],
   "source": [
    "print(df3.year.dtype)"
   ]
  },
  {
   "cell_type": "markdown",
   "id": "ae8c2943",
   "metadata": {},
   "source": [
    "display the datatype of all the columns"
   ]
  },
  {
   "cell_type": "code",
   "execution_count": 29,
   "id": "c31e0a66",
   "metadata": {},
   "outputs": [
    {
     "name": "stdout",
     "output_type": "stream",
     "text": [
      "year            int64\n",
      "city           object\n",
      "population    float64\n",
      "GDP            object\n",
      "dtype: object\n"
     ]
    }
   ],
   "source": [
    "print(df3.dtypes)"
   ]
  },
  {
   "cell_type": "markdown",
   "id": "11d1a870",
   "metadata": {},
   "source": [
    "We can retrieve any record using the index as follows"
   ]
  },
  {
   "cell_type": "code",
   "execution_count": 30,
   "id": "515eaa12",
   "metadata": {},
   "outputs": [
    {
     "data": {
      "text/plain": [
       "year            2010\n",
       "city          Mumbai\n",
       "population      10.0\n",
       "GDP              NaN\n",
       "Name: one, dtype: object"
      ]
     },
     "execution_count": 30,
     "metadata": {},
     "output_type": "execute_result"
    }
   ],
   "source": [
    "df3.loc['one']"
   ]
  },
  {
   "cell_type": "markdown",
   "id": "00419834",
   "metadata": {},
   "source": [
    "assign the same value to all the members of a column"
   ]
  },
  {
   "cell_type": "code",
   "execution_count": 31,
   "id": "4432f99b",
   "metadata": {},
   "outputs": [
    {
     "name": "stdout",
     "output_type": "stream",
     "text": [
      "       year       city  population  GDP\n",
      "one    2010     Mumbai        10.0   10\n",
      "two    2011     Mumbai        10.1   10\n",
      "three  2012     Mumbai        10.2   10\n",
      "four   2010  Hyderabad         5.2   10\n",
      "five   2011  Hyderabad         5.3   10\n",
      "six    2012  Hyderabad         5.5   10\n"
     ]
    }
   ],
   "source": [
    "df3.GDP = 10\n",
    "print(df3)"
   ]
  },
  {
   "cell_type": "markdown",
   "id": "a3dab5fe",
   "metadata": {},
   "source": [
    "We can assign an ndarray to the GDP column as follows"
   ]
  },
  {
   "cell_type": "code",
   "execution_count": 32,
   "id": "77bcf40d",
   "metadata": {},
   "outputs": [
    {
     "name": "stdout",
     "output_type": "stream",
     "text": [
      "       year       city  population  GDP\n",
      "one    2010     Mumbai        10.0    0\n",
      "two    2011     Mumbai        10.1    1\n",
      "three  2012     Mumbai        10.2    2\n",
      "four   2010  Hyderabad         5.2    3\n",
      "five   2011  Hyderabad         5.3    4\n",
      "six    2012  Hyderabad         5.5    5\n"
     ]
    }
   ],
   "source": [
    "df3.GDP = np.arange(6)\n",
    "print(df3)"
   ]
  },
  {
   "cell_type": "markdown",
   "id": "be58b2c9",
   "metadata": {},
   "source": [
    "We can also assign it a list as follows"
   ]
  },
  {
   "cell_type": "code",
   "execution_count": 33,
   "id": "2f2f4567",
   "metadata": {},
   "outputs": [
    {
     "name": "stdout",
     "output_type": "stream",
     "text": [
      "       year       city  population  GDP\n",
      "one    2010     Mumbai        10.0  3.0\n",
      "two    2011     Mumbai        10.1  2.0\n",
      "three  2012     Mumbai        10.2  0.0\n",
      "four   2010  Hyderabad         5.2  9.0\n",
      "five   2011  Hyderabad         5.3 -0.4\n",
      "six    2012  Hyderabad         5.5  7.0\n"
     ]
    }
   ],
   "source": [
    "df3.GDP = [3, 2, 0, 9, -0.4, 7]\n",
    "print(df3)"
   ]
  },
  {
   "cell_type": "markdown",
   "id": "223b5c7b",
   "metadata": {},
   "source": [
    "Let’s assign a series to it"
   ]
  },
  {
   "cell_type": "code",
   "execution_count": 34,
   "id": "2fa89142",
   "metadata": {},
   "outputs": [
    {
     "name": "stdout",
     "output_type": "stream",
     "text": [
      "       year       city  population  GDP\n",
      "one    2010     Mumbai        10.0  NaN\n",
      "two    2011     Mumbai        10.1 -1.4\n",
      "three  2012     Mumbai        10.2  NaN\n",
      "four   2010  Hyderabad         5.2  1.5\n",
      "five   2011  Hyderabad         5.3 -1.3\n",
      "six    2012  Hyderabad         5.5  NaN\n"
     ]
    }
   ],
   "source": [
    "val = pd.Series([-1.4, 1.5, -1.3], index=['two', 'four', 'five'])\n",
    "df3.GDP = val\n",
    "print(df3)"
   ]
  },
  {
   "cell_type": "markdown",
   "id": "e55e9cff",
   "metadata": {},
   "source": [
    "## Reading Data Stored in CSV Format"
   ]
  },
  {
   "cell_type": "code",
   "execution_count": 35,
   "id": "8009977d",
   "metadata": {},
   "outputs": [
    {
     "data": {
      "text/html": [
       "<div>\n",
       "<style scoped>\n",
       "    .dataframe tbody tr th:only-of-type {\n",
       "        vertical-align: middle;\n",
       "    }\n",
       "\n",
       "    .dataframe tbody tr th {\n",
       "        vertical-align: top;\n",
       "    }\n",
       "\n",
       "    .dataframe thead th {\n",
       "        text-align: right;\n",
       "    }\n",
       "</style>\n",
       "<table border=\"1\" class=\"dataframe\">\n",
       "  <thead>\n",
       "    <tr style=\"text-align: right;\">\n",
       "      <th></th>\n",
       "      <th>Country</th>\n",
       "      <th>Region</th>\n",
       "    </tr>\n",
       "  </thead>\n",
       "  <tbody>\n",
       "    <tr>\n",
       "      <th>0</th>\n",
       "      <td>Algeria</td>\n",
       "      <td>AFRICA</td>\n",
       "    </tr>\n",
       "    <tr>\n",
       "      <th>1</th>\n",
       "      <td>Angola</td>\n",
       "      <td>AFRICA</td>\n",
       "    </tr>\n",
       "    <tr>\n",
       "      <th>2</th>\n",
       "      <td>Benin</td>\n",
       "      <td>AFRICA</td>\n",
       "    </tr>\n",
       "    <tr>\n",
       "      <th>3</th>\n",
       "      <td>Botswana</td>\n",
       "      <td>AFRICA</td>\n",
       "    </tr>\n",
       "    <tr>\n",
       "      <th>4</th>\n",
       "      <td>Burkina</td>\n",
       "      <td>AFRICA</td>\n",
       "    </tr>\n",
       "  </tbody>\n",
       "</table>\n",
       "</div>"
      ],
      "text/plain": [
       "    Country  Region\n",
       "0   Algeria  AFRICA\n",
       "1    Angola  AFRICA\n",
       "2     Benin  AFRICA\n",
       "3  Botswana  AFRICA\n",
       "4   Burkina  AFRICA"
      ]
     },
     "execution_count": 35,
     "metadata": {},
     "output_type": "execute_result"
    }
   ],
   "source": [
    "df = pd.read_csv('https://raw.githubusercontent.com/cs109/2014_data/master/countries.csv')\n",
    "df.head(5)"
   ]
  }
 ],
 "metadata": {
  "kernelspec": {
   "display_name": "Python 3",
   "language": "python",
   "name": "python3"
  },
  "language_info": {
   "codemirror_mode": {
    "name": "ipython",
    "version": 3
   },
   "file_extension": ".py",
   "mimetype": "text/x-python",
   "name": "python",
   "nbconvert_exporter": "python",
   "pygments_lexer": "ipython3",
   "version": "3.8.8"
  }
 },
 "nbformat": 4,
 "nbformat_minor": 5
}
